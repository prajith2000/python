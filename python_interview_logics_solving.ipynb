{
  "nbformat": 4,
  "nbformat_minor": 0,
  "metadata": {
    "colab": {
      "provenance": []
    },
    "kernelspec": {
      "name": "python3",
      "display_name": "Python 3"
    },
    "language_info": {
      "name": "python"
    }
  },
  "cells": [
    {
      "cell_type": "code",
      "execution_count": null,
      "metadata": {
        "id": "THC7l3gKEUdv",
        "colab": {
          "base_uri": "https://localhost:8080/"
        },
        "outputId": "0e943374-a502-4f1a-fa27-9e9c99a91265"
      },
      "outputs": [
        {
          "output_type": "stream",
          "name": "stdout",
          "text": [
            "enter the first number:372\n",
            "enter the second number482\n",
            "addition 854\n"
          ]
        }
      ],
      "source": [
        "#Accept input from user\n",
        "a=int(input(\"enter the first number:\"))\n",
        "b=int(input(\"enter the second number\"))\n",
        "c=a+b\n",
        "print('addition',c);"
      ]
    },
    {
      "cell_type": "code",
      "source": [
        "#Accept list of 5 float numbers\n",
        "numbers=[float(input(\"enter the number:\")) for i in range(5)]\n",
        "print(\"users list\",numbers)\n",
        "\n"
      ],
      "metadata": {
        "colab": {
          "base_uri": "https://localhost:8080/"
        },
        "id": "uU4Jje4a4fjg",
        "outputId": "f611c9ad-a09a-4295-c751-a71f38064e57"
      },
      "execution_count": null,
      "outputs": [
        {
          "output_type": "stream",
          "name": "stdout",
          "text": [
            "enter the number:10\n",
            "enter the number:20\n",
            "enter the number:30\n",
            "enter the number:40\n",
            "enter the number:50\n",
            "users list [10.0, 20.0, 30.0, 40.0, 50.0]\n"
          ]
        }
      ]
    },
    {
      "cell_type": "code",
      "source": [
        "# print the sum of current numbers and previous numbers\n",
        "print(\"current and previous number and their sum range(10):\")\n",
        "previous_num=0\n",
        "for i in range(1,11):\n",
        "  x_sum=previous_num + i\n",
        "  print(\"current number\",i,\"previous number\",previous_num,\"sum\",x_sum)\n",
        "  previous_num=i;\n",
        "\n"
      ],
      "metadata": {
        "colab": {
          "base_uri": "https://localhost:8080/"
        },
        "id": "tpYdlTB0GFz3",
        "outputId": "f7d8aacd-29b3-49ad-ec1b-2038121f8a5e"
      },
      "execution_count": null,
      "outputs": [
        {
          "output_type": "stream",
          "name": "stdout",
          "text": [
            "current and previous number and their sum range(10):\n",
            "current number 1 previous number 0 sum 1\n",
            "current number 2 previous number 1 sum 3\n",
            "current number 3 previous number 2 sum 5\n",
            "current number 4 previous number 3 sum 7\n",
            "current number 5 previous number 4 sum 9\n",
            "current number 6 previous number 5 sum 11\n",
            "current number 7 previous number 6 sum 13\n",
            "current number 8 previous number 7 sum 15\n",
            "current number 9 previous number 8 sum 17\n",
            "current number 10 previous number 9 sum 19\n"
          ]
        }
      ]
    },
    {
      "cell_type": "markdown",
      "source": [
        "write a python program to get a string made of the first 2 and the last 2 chars from a given string. if the string length is less than 2 return N\n",
        "\n",
        "steps to implement :\n",
        "\n",
        "1.take a string\n",
        "\n",
        "2.use slicing : 0:2 first 2 and -2:\n",
        "\n",
        "3. len(string)\n",
        "\n"
      ],
      "metadata": {
        "id": "xY-bR8L5at1t"
      }
    },
    {
      "cell_type": "code",
      "source": [
        "name=\"Prajith\"\n",
        "print(name[0:2],name[-2:]);\n",
        "def string(string):\n",
        "  if len(string)<2:\n",
        "    return 'N'\n",
        "print(string('N'))"
      ],
      "metadata": {
        "colab": {
          "base_uri": "https://localhost:8080/"
        },
        "id": "x6c78yn0cgSW",
        "outputId": "d1d37649-d715-463f-91ef-7403532df9ec"
      },
      "execution_count": null,
      "outputs": [
        {
          "output_type": "stream",
          "name": "stdout",
          "text": [
            "Pr th\n",
            "N\n"
          ]
        }
      ]
    },
    {
      "cell_type": "markdown",
      "source": [
        "python practice coding\n"
      ],
      "metadata": {
        "id": "vg8ggmtbuvzt"
      }
    },
    {
      "cell_type": "code",
      "source": [
        "#program to add two numbers\n",
        "num1=372;\n",
        "num2=382;\n",
        "print(num1+num2)"
      ],
      "metadata": {
        "colab": {
          "base_uri": "https://localhost:8080/"
        },
        "id": "FluFCBRyu0fg",
        "outputId": "5b94ec2f-f45b-45b7-84a8-9e5cea3f2bae"
      },
      "execution_count": null,
      "outputs": [
        {
          "output_type": "stream",
          "name": "stdout",
          "text": [
            "754\n"
          ]
        }
      ]
    },
    {
      "cell_type": "code",
      "source": [
        "#program to add three numbers\n",
        "num1=300000;\n",
        "num2=2400000;\n",
        "num3=3400000;\n",
        "print(num1+num2+num3);"
      ],
      "metadata": {
        "colab": {
          "base_uri": "https://localhost:8080/"
        },
        "id": "CONcD6lgvWXh",
        "outputId": "898394bc-7994-459d-c9a4-c3ad9759069a"
      },
      "execution_count": null,
      "outputs": [
        {
          "output_type": "stream",
          "name": "stdout",
          "text": [
            "6100000\n"
          ]
        }
      ]
    },
    {
      "cell_type": "code",
      "source": [
        "#program to find the number is even or odd\n",
        "num=24;\n",
        "if num%2==0:\n",
        "  print(\"the number 24 is even number\");\n",
        "else:\n",
        "  print(\"the number is odd number\");"
      ],
      "metadata": {
        "colab": {
          "base_uri": "https://localhost:8080/"
        },
        "id": "7Nm-PfO1vyeO",
        "outputId": "0d2dc50b-3b1f-4dbb-eef8-d522fe8ade85"
      },
      "execution_count": null,
      "outputs": [
        {
          "output_type": "stream",
          "name": "stdout",
          "text": [
            "the number 24 is even number\n"
          ]
        }
      ]
    },
    {
      "cell_type": "code",
      "source": [
        "#program to check whether a number practice link is negative,positive or zero\n",
        "numberpracticelink = 382;\n",
        "if numberpracticelink > 0:\n",
        "  print(\"It is positive number\");\n",
        "elif numberpracticelink <  0:\n",
        "  print(\"It is a negative number\");\n",
        "else:\n",
        "  print(\"It is zero\");\n"
      ],
      "metadata": {
        "colab": {
          "base_uri": "https://localhost:8080/"
        },
        "id": "VMYwO7HkwNtK",
        "outputId": "65b4d0db-e18b-4947-8291-be9ecce18584"
      },
      "execution_count": null,
      "outputs": [
        {
          "output_type": "stream",
          "name": "stdout",
          "text": [
            "It is positive number\n"
          ]
        }
      ]
    },
    {
      "cell_type": "code",
      "source": [
        "#program to input any character and check whether it is alphabet,digit or special character\n",
        "ch='P';\n",
        "int=34;\n",
        "if ch>='A':\n",
        "  print(\"It is alphabet\");\n",
        "elif int>=0:\n",
        "  print(\"It is digit\");\n",
        "else :\n",
        "  print(\"It is special charcter\");\n"
      ],
      "metadata": {
        "colab": {
          "base_uri": "https://localhost:8080/"
        },
        "id": "i8TwFJ0bx1nK",
        "outputId": "5d158a0a-944a-43aa-894e-9dfe348ff1a3"
      },
      "execution_count": null,
      "outputs": [
        {
          "output_type": "stream",
          "name": "stdout",
          "text": [
            "It is alphabet\n"
          ]
        }
      ]
    },
    {
      "cell_type": "code",
      "source": [
        "#program to check whether the triangle is equilateral,isosceles or scalene triangle\n",
        "def triangle_type(a,b,c):\n",
        "  if a==b==c:\n",
        "    return \"Equilateral Triangle\"\n",
        "  elif a==b or b==c or a==c:\n",
        "    return \"Isosceles Triangle\"\n",
        "  else :\n",
        "    return \"Scalene Triangle\"\n",
        "# sides of triangle\n",
        "a=float(input(\"Enter the length of side a\"));\n",
        "b=float(input(\"Enter the lenght of side b\"));\n",
        "c=float(input(\"Enter the lenght of side c\"));\n",
        "#check the triangle type\n",
        "print(\"the triangle type:\",triangle_type);\n",
        "\n"
      ],
      "metadata": {
        "colab": {
          "base_uri": "https://localhost:8080/"
        },
        "id": "Te4ZFfsl0ZqT",
        "outputId": "d576f348-2988-48e6-dd36-7994de7c1fe8"
      },
      "execution_count": null,
      "outputs": [
        {
          "output_type": "stream",
          "name": "stdout",
          "text": [
            "Enter the length of side a24\n",
            "Enter the lenght of side b34\n",
            "Enter the lenght of side c44\n",
            "the triangle type: <function triangle_type at 0x7fb90c662050>\n"
          ]
        }
      ]
    },
    {
      "cell_type": "code",
      "source": [
        "#program to check whether number is divisible by 5 and 11 or not\n",
        "number = 8;\n",
        "if number%5==0 and number%11==0:\n",
        "  print(\"the number is divisible by 5 and 11\");\n",
        "else:\n",
        "  print(\"the number is not divisible by 5 and 11\");\n"
      ],
      "metadata": {
        "colab": {
          "base_uri": "https://localhost:8080/"
        },
        "id": "gGYf5PyY41vp",
        "outputId": "8cf75d4c-0899-4279-dd1d-01d1581da52d"
      },
      "execution_count": null,
      "outputs": [
        {
          "output_type": "stream",
          "name": "stdout",
          "text": [
            "the number is not divisible by 5 and 11\n"
          ]
        }
      ]
    },
    {
      "cell_type": "code",
      "source": [
        "#program to check whether a character is uppercase or lowercase alphabet\n",
        "ch = 'N';\n",
        "if ch >= 'A' and ch <= 'Z':\n",
        "  print(\"character is uppercase alphabet\");\n",
        "elif ch >= 'a' and ch <= 'z':\n",
        "  print(\"character is lowercase alphabet\");\n",
        "else:\n",
        "  print(\"character is special character\");\n"
      ],
      "metadata": {
        "colab": {
          "base_uri": "https://localhost:8080/"
        },
        "id": "BaqSSvM48uKx",
        "outputId": "7118112c-a37d-4867-9bfb-50e0adc22099"
      },
      "execution_count": null,
      "outputs": [
        {
          "output_type": "stream",
          "name": "stdout",
          "text": [
            "character is uppercase alphabet\n"
          ]
        }
      ]
    },
    {
      "cell_type": "code",
      "source": [
        "#program to find the area of rectangle and triangle ?\n",
        "import math\n",
        "def rectangle_area(length,width):\n",
        "  return length*width\n",
        "\n",
        "def triangle_area(base,height):\n",
        "  return 0.5*base*height\n",
        "\n",
        "#input for rectangle\n",
        "length_react = float(input(\"Enter the length of rectangle\"))\n",
        "width_react = float(input(\"Enter the width of rectangle\"))\n",
        "\n",
        "#input for triangle\n",
        "base_tri = float(input(\"Enter the base of triangle\"))\n",
        "height_tri = float(input(\"Enter the height of triangle\"))\n",
        "\n",
        "#calculate\n",
        "print(\"Area of reactangle:\",rectangle_area(length_react,width_react));\n",
        "print(\"Area of triangle:\",triangle_area(base_tri,height_tri));\n",
        "\n"
      ],
      "metadata": {
        "colab": {
          "base_uri": "https://localhost:8080/"
        },
        "id": "bI0Y-XicUpji",
        "outputId": "0a2e6a08-5817-4a2d-bb8c-f79a17a134e6"
      },
      "execution_count": null,
      "outputs": [
        {
          "output_type": "stream",
          "name": "stdout",
          "text": [
            "Enter the length of rectangle10\n",
            "Enter the width of rectangle15\n",
            "Enter the base of triangle10\n",
            "Enter the height of triangle15\n",
            "Area of reactangle: 150.0\n",
            "Area of triangle: 75.0\n"
          ]
        }
      ]
    },
    {
      "cell_type": "code",
      "source": [
        "#program to find all roots of a quadratic equation\n",
        "import math\n",
        "\n",
        "def find_roots(a, b, c):\n",
        "    # Calculate the discriminant\n",
        "    discriminant = b**2 - 4*a*c\n",
        "\n",
        "    # Check if the discriminant is positive, negative, or zero\n",
        "    if discriminant > 0:\n",
        "        root1 = (-b + math.sqrt(discriminant)) / (2*a)\n",
        "        root2 = (-b - math.sqrt(discriminant)) / (2*a)\n",
        "        return root1, root2\n",
        "    elif discriminant == 0:\n",
        "        root = -b / (2*a)\n",
        "        return root,\n",
        "    else:\n",
        "        real_part = -b / (2*a)\n",
        "        imaginary_part = math.sqrt(-discriminant) / (2*a)\n",
        "        return complex(real_part, imaginary_part), complex(real_part, -imaginary_part)\n",
        "\n",
        "# Input coefficients of the quadratic equation\n",
        "a = float(input(\"Enter coefficient a: \"))\n",
        "b = float(input(\"Enter coefficient b: \"))\n",
        "c = float(input(\"Enter coefficient c: \"))\n",
        "\n",
        "# Find and print the roots\n",
        "roots = find_roots(a, b, c)\n",
        "print(\"Roots:\", roots)\n"
      ],
      "metadata": {
        "colab": {
          "base_uri": "https://localhost:8080/"
        },
        "id": "uuDbKMrcZT3_",
        "outputId": "c4c54e32-2c32-47c6-d4a6-e12449accba9"
      },
      "execution_count": null,
      "outputs": [
        {
          "output_type": "stream",
          "name": "stdout",
          "text": [
            "Enter coefficient a: 22\n",
            "Enter coefficient b: 23\n",
            "Enter coefficient c: 24\n",
            "Roots: ((-0.5227272727272727+0.9042484665489892j), (-0.5227272727272727-0.9042484665489892j))\n"
          ]
        }
      ]
    },
    {
      "cell_type": "code",
      "source": [
        "#program to input any alphabet and check whether it is vowel or consonant\n",
        "char=(input(\"Enter the character\"));\n",
        "if ch>='a' and ch<='z':\n",
        "  if ch=='a' or ch=='e' or ch=='i' or ch=='o' or ch=='u':\n",
        "    print(\"the character is vowel\");\n",
        "else:\n",
        "  print(\"the character is consonant\");"
      ],
      "metadata": {
        "colab": {
          "base_uri": "https://localhost:8080/"
        },
        "id": "8wnYh7HcaRTG",
        "outputId": "8f02dd6f-89a1-40ba-94dd-0710c7e38f86"
      },
      "execution_count": null,
      "outputs": [
        {
          "output_type": "stream",
          "name": "stdout",
          "text": [
            "Enter the charactere\n",
            "the character is vowel\n"
          ]
        }
      ]
    },
    {
      "cell_type": "code",
      "source": [
        "#program to input all sides of triangle and check the triangle is valid or not\n",
        "side1=3.0;\n",
        "side2=4.0;\n",
        "side3=5.0;\n",
        "if side1+side2>side3 and side1+side3>side2 and side2+side3>side1:\n",
        "  print(\"the triangle is valid\");\n",
        "else:\n",
        "  print(\"the triangle is not valid\");"
      ],
      "metadata": {
        "colab": {
          "base_uri": "https://localhost:8080/"
        },
        "id": "vq_rDpbzeJ91",
        "outputId": "d5b95363-598f-4286-ad20-94fca52f4e6f"
      },
      "execution_count": null,
      "outputs": [
        {
          "output_type": "stream",
          "name": "stdout",
          "text": [
            "the triangle is valid\n"
          ]
        }
      ]
    },
    {
      "cell_type": "code",
      "source": [
        "#program to find greatest among three numbers\n",
        "num1=372;\n",
        "num2=373;\n",
        "num3=374;\n",
        "if num1>num2 and num1>num3:\n",
        "  print(\"number 1 is greater\");\n",
        "elif num2>num1 and num2>num3:\n",
        "  print(\"number 2 is greater\");\n",
        "else:\n",
        "  print(\"number 3 is greater\");\n"
      ],
      "metadata": {
        "colab": {
          "base_uri": "https://localhost:8080/"
        },
        "id": "2vfS_ILlfxa1",
        "outputId": "27948098-22dc-41ba-94c5-70df7e4b5255"
      },
      "execution_count": null,
      "outputs": [
        {
          "output_type": "stream",
          "name": "stdout",
          "text": [
            "number 3 is greater\n"
          ]
        }
      ]
    },
    {
      "cell_type": "code",
      "source": [
        "#program to reverse a string in python\n",
        "str=input(\"Enter a string :\")\n",
        "rev=\"\";\n",
        "for ch in str:\n",
        "  rev=ch+rev\n",
        "print(\"Reverse of {} is {}\".format(rev,str))\n",
        "\n",
        "\n"
      ],
      "metadata": {
        "colab": {
          "base_uri": "https://localhost:8080/"
        },
        "id": "-Oh9Eb8gIGej",
        "outputId": "26e386f1-4868-4c07-ae80-8190718fd3a0"
      },
      "execution_count": null,
      "outputs": [
        {
          "output_type": "stream",
          "name": "stdout",
          "text": [
            "Enter a string :Refer\n",
            "Reverse of refeR is Refer\n"
          ]
        }
      ]
    },
    {
      "cell_type": "code",
      "source": [
        "#reverse a string in python Method 2\n",
        "str=input(\"Enter a string :\")\n",
        "rev=str[::-1]\n",
        "print(rev)"
      ],
      "metadata": {
        "colab": {
          "base_uri": "https://localhost:8080/"
        },
        "id": "dgg3rJLvLBwh",
        "outputId": "54fddf7a-05c1-4459-a677-0a3e7e680367"
      },
      "execution_count": null,
      "outputs": [
        {
          "output_type": "stream",
          "name": "stdout",
          "text": [
            "Enter a string :Nellore\n",
            "erolleN\n"
          ]
        }
      ]
    },
    {
      "cell_type": "code",
      "source": [
        "#check given string is palindrome or not\n",
        "str=input(\"Enter a given string :\")\n",
        "rev=str[::-1]\n",
        "if(str==rev):\n",
        "  print(\"given string {} is palindrome:\".format(str))\n",
        "else:\n",
        "  print(\"given string {} is not palindrome:\".format(str))\n",
        "\n"
      ],
      "metadata": {
        "colab": {
          "base_uri": "https://localhost:8080/"
        },
        "id": "Ku4b7HvsM2br",
        "outputId": "23dd1b2d-f70f-4a33-fb32-36b689322231"
      },
      "execution_count": null,
      "outputs": [
        {
          "output_type": "stream",
          "name": "stdout",
          "text": [
            "Enter a given string :nellore\n",
            "given string nellore is not palindrome:\n"
          ]
        }
      ]
    },
    {
      "cell_type": "code",
      "source": [
        "#check factorial of a given number\n",
        "num=5\n",
        "factorial=1\n",
        "for i in range(1,num+1):\n",
        "  factorial*=i\n",
        "print(\"factorial of a given number is\",factorial)\n",
        "\n",
        "\n"
      ],
      "metadata": {
        "colab": {
          "base_uri": "https://localhost:8080/"
        },
        "id": "Je4HEMBMPjDY",
        "outputId": "369832f7-58fb-4371-f724-108c33028ea8"
      },
      "execution_count": null,
      "outputs": [
        {
          "output_type": "stream",
          "name": "stdout",
          "text": [
            "factorial of a given number is 120\n"
          ]
        }
      ]
    },
    {
      "cell_type": "code",
      "source": [
        "#number is prime or not in python?\n",
        "num=7;\n",
        "count=0;\n",
        "for i in range(2,num):\n",
        "  if num % i ==0:\n",
        "    count+=1\n",
        "if count==0:\n",
        "  print(\"It is a prime number\")\n",
        "else:\n",
        "  print(\"It is not a prime number\")\n"
      ],
      "metadata": {
        "id": "SojgsDykXIaQ",
        "colab": {
          "base_uri": "https://localhost:8080/"
        },
        "outputId": "679b0b56-316e-4b48-d30d-5ee53d5efa05"
      },
      "execution_count": null,
      "outputs": [
        {
          "output_type": "stream",
          "name": "stdout",
          "text": [
            "It is a prime number\n"
          ]
        }
      ]
    },
    {
      "cell_type": "code",
      "source": [
        "#find the leap year or not\n",
        "year=2000;\n",
        "if year%400==0:\n",
        "  print(\"it is a leap year\")\n",
        "elif year%100==0:\n",
        "  print(\"It is not a leap year\")\n",
        "elif year%4==0:\n",
        "  print(\"it is also a leap year\")"
      ],
      "metadata": {
        "colab": {
          "base_uri": "https://localhost:8080/"
        },
        "id": "3f1b7bAQ4Y3H",
        "outputId": "bfcc7c7f-dd96-4bab-e5fe-cf0380758a5c"
      },
      "execution_count": null,
      "outputs": [
        {
          "output_type": "stream",
          "name": "stdout",
          "text": [
            "it is a leap year\n"
          ]
        }
      ]
    },
    {
      "cell_type": "code",
      "source": [
        "#swap two numbers in python\n",
        "a=10;\n",
        "b=20;\n",
        "temp=a;\n",
        "a=b;\n",
        "b=temp;\n",
        "print(a);\n",
        "print(b);\n",
        "\n"
      ],
      "metadata": {
        "colab": {
          "base_uri": "https://localhost:8080/"
        },
        "id": "q1KbJCvl5JU9",
        "outputId": "417dd5e2-09ee-49b5-e18f-4944899a03b7"
      },
      "execution_count": null,
      "outputs": [
        {
          "output_type": "stream",
          "name": "stdout",
          "text": [
            "20\n",
            "10\n"
          ]
        }
      ]
    },
    {
      "cell_type": "code",
      "source": [
        "#find greatest common divisor of two numbers in python\n",
        "import math\n",
        "\n",
        "num1 = 24\n",
        "num2 = 36\n",
        "\n",
        "gcd = math.gcd(num1, num2)\n",
        "\n",
        "print(\"The GCD of\", num1, \"and\", num2, \"is:\", gcd)\n"
      ],
      "metadata": {
        "colab": {
          "base_uri": "https://localhost:8080/"
        },
        "id": "8HKWQzlU6YV4",
        "outputId": "3b310757-13a5-452d-f58a-623958d273f0"
      },
      "execution_count": null,
      "outputs": [
        {
          "output_type": "stream",
          "name": "stdout",
          "text": [
            "The GCD of 24 and 36 is: 12\n"
          ]
        }
      ]
    },
    {
      "cell_type": "code",
      "source": [
        "from os import nice # reverse a number\n",
        "n=input(\"Enter the number:\")\n",
        "rev=n[::-1]\n",
        "print(rev)\n"
      ],
      "metadata": {
        "colab": {
          "base_uri": "https://localhost:8080/"
        },
        "id": "TVcxCo-d6wKh",
        "outputId": "26cd2091-581a-4c33-82ee-3fd2b0fab71c"
      },
      "execution_count": null,
      "outputs": [
        {
          "output_type": "stream",
          "name": "stdout",
          "text": [
            "Enter the number:12345\n",
            "54321\n"
          ]
        }
      ]
    },
    {
      "cell_type": "code",
      "source": [
        "#find the number is armstrong or not\n",
        "n=int(input(\"Enter the number:\"))\n",
        "temp=n\n",
        "l=len(str(n))\n",
        "sum=0\n",
        "while n!=0:\n",
        "  r=n%10 #153%10=3\n",
        "  sum=sum+(r**l) #3**3=27,5**3=125,1**3=1\n",
        "  n=n//10\n",
        "if temp==sum:\n",
        "  print(\"it is armstrong number\")\n",
        "else:\n",
        "  print(\"it is not armstrong number\")\n",
        "\n"
      ],
      "metadata": {
        "colab": {
          "base_uri": "https://localhost:8080/"
        },
        "id": "dxyLL4B48SY0",
        "outputId": "3a7b124e-7566-43bc-f8d9-6102864437b0"
      },
      "execution_count": null,
      "outputs": [
        {
          "output_type": "stream",
          "name": "stdout",
          "text": [
            "Enter the number:153\n",
            "it is armstrong number\n"
          ]
        }
      ]
    },
    {
      "cell_type": "code",
      "source": [
        "#check given string is palindrome or not\n",
        "def ispalindrome(s): #function definition\n",
        "  return s==s[::-1]\n",
        "s=\"refer\" #string\n",
        "ans=ispalindrome(s)   #function calling\n",
        "if ans:\n",
        "  print(\"this is palindrome\")\n",
        "else:\n",
        "  print(\"this not a palindrome\")\n",
        "\n"
      ],
      "metadata": {
        "colab": {
          "base_uri": "https://localhost:8080/"
        },
        "id": "uY8rh8AnqBpP",
        "outputId": "670d93d3-e9e6-494f-bd8f-85d81a1ea370"
      },
      "execution_count": null,
      "outputs": [
        {
          "output_type": "stream",
          "name": "stdout",
          "text": [
            "this is palindrome\n"
          ]
        }
      ]
    },
    {
      "cell_type": "code",
      "source": [
        "#find sum of digits of a given number\n",
        "num=437\n",
        "sum=0\n",
        "while num>0:\n",
        "  temp=num%10\n",
        "  sum=sum+temp;\n",
        "  num=num//10\n",
        "print(sum)"
      ],
      "metadata": {
        "colab": {
          "base_uri": "https://localhost:8080/"
        },
        "id": "MkZulVJMrllV",
        "outputId": "fd0e5675-5d36-4983-b32e-1763063288f5"
      },
      "execution_count": null,
      "outputs": [
        {
          "output_type": "stream",
          "name": "stdout",
          "text": [
            "14\n"
          ]
        }
      ]
    },
    {
      "cell_type": "code",
      "source": [
        "#find the fibonacci series of a number\n",
        "n=7\n",
        "f=1\n",
        "s=1\n",
        "print(f)\n",
        "print(s)\n",
        "for i in range(3,n):\n",
        "  t=f+s\n",
        "  print(t)\n",
        "  f=s\n",
        "  s=t;"
      ],
      "metadata": {
        "colab": {
          "base_uri": "https://localhost:8080/"
        },
        "id": "whnr9WGmsZqD",
        "outputId": "266a06dc-286d-48a8-a3a2-72fa36f2f3fd"
      },
      "execution_count": null,
      "outputs": [
        {
          "output_type": "stream",
          "name": "stdout",
          "text": [
            "1\n",
            "1\n",
            "2\n",
            "3\n",
            "5\n",
            "8\n"
          ]
        }
      ]
    },
    {
      "cell_type": "code",
      "source": [
        "#find the number is perfect or not\n",
        "num=6\n",
        "sum=0\n",
        "for i in range(1,num):\n",
        "  if num%i==0:\n",
        "    sum=sum+i\n",
        "if sum==num:\n",
        "  print(\"perfect\")\n",
        "else:\n",
        "  print(\"not perfect\")\n",
        "\n"
      ],
      "metadata": {
        "colab": {
          "base_uri": "https://localhost:8080/"
        },
        "id": "-tXrPl8jtKOb",
        "outputId": "7471daab-8d5a-4d1d-9531-cbb9c2e142f9"
      },
      "execution_count": null,
      "outputs": [
        {
          "output_type": "stream",
          "name": "stdout",
          "text": [
            "perfect\n"
          ]
        }
      ]
    }
  ]
}