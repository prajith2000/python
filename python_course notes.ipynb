{
  "nbformat": 4,
  "nbformat_minor": 0,
  "metadata": {
    "colab": {
      "provenance": []
    },
    "kernelspec": {
      "name": "python3",
      "display_name": "Python 3"
    },
    "language_info": {
      "name": "python"
    }
  },
  "cells": [
    {
      "cell_type": "markdown",
      "source": [
        "variables in python : variable is a memory block which is used to store data\n",
        "\n",
        "syntax : varable=value,\n",
        "         x=100\n",
        "         \n",
        "Rules :\n",
        "*  dont start with digit or symbol\n",
        "* starting letter should be alphabets and underscore\n",
        "* case senitive          \n"
      ],
      "metadata": {
        "id": "wRq3jnv49m2F"
      }
    },
    {
      "cell_type": "code",
      "source": [
        "#variables\n",
        "string=\"Nedurumalli Prajith kumar reddy\"\n",
        "print(string)"
      ],
      "metadata": {
        "colab": {
          "base_uri": "https://localhost:8080/"
        },
        "id": "QCEj_boi_ym4",
        "outputId": "b1eb1eb4-d9cf-485d-dc9b-53d299f345ba"
      },
      "execution_count": null,
      "outputs": [
        {
          "output_type": "stream",
          "name": "stdout",
          "text": [
            "Nedurumalli Prajith kumar reddy\n"
          ]
        }
      ]
    },
    {
      "cell_type": "code",
      "source": [
        "# multiple variables and multiple values\n",
        "a,b,c=1,3,4\n",
        "print(a,b,c)"
      ],
      "metadata": {
        "colab": {
          "base_uri": "https://localhost:8080/"
        },
        "id": "33DOpFbGAhm9",
        "outputId": "05d097f3-e6be-4abd-9765-aac9e099d95e"
      },
      "execution_count": null,
      "outputs": [
        {
          "output_type": "stream",
          "name": "stdout",
          "text": [
            "1 3 4\n"
          ]
        }
      ]
    },
    {
      "cell_type": "code",
      "source": [
        "#single varible multiple values\n",
        "c=3,7,2\n",
        "print(c)"
      ],
      "metadata": {
        "colab": {
          "base_uri": "https://localhost:8080/"
        },
        "id": "WwOlx_jdAzed",
        "outputId": "50b838e5-3c52-4b18-bc0e-7e2f9fbf4c61"
      },
      "execution_count": null,
      "outputs": [
        {
          "output_type": "stream",
          "name": "stdout",
          "text": [
            "(3, 7, 2)\n"
          ]
        }
      ]
    },
    {
      "cell_type": "code",
      "source": [
        "#single value multiple varibles\n",
        "c=v=x=22\n",
        "print(c,v,x)"
      ],
      "metadata": {
        "colab": {
          "base_uri": "https://localhost:8080/"
        },
        "id": "cJ8fmycABPB7",
        "outputId": "6ea30aaa-f786-4f8e-8a39-bda3ce7b2f87"
      },
      "execution_count": null,
      "outputs": [
        {
          "output_type": "stream",
          "name": "stdout",
          "text": [
            "22 22 22\n"
          ]
        }
      ]
    },
    {
      "cell_type": "markdown",
      "source": [
        "Data types in python : type of a value or type of data which is used to store perticular memory location  \n",
        "\n",
        "Data types : types\n",
        "\n",
        "int,                   \n",
        "float,\n",
        "boolean,\n",
        "string,\n",
        "complex,\n",
        "list [],\n",
        "tuple (),\n",
        "set {},\n",
        "Dictionary {},\n",
        "frozenset,\n",
        "None"
      ],
      "metadata": {
        "id": "EgnIlyYiB_UC"
      }
    },
    {
      "cell_type": "code",
      "source": [
        "# int Data types\n",
        "i=372\n",
        "print(type(i))"
      ],
      "metadata": {
        "colab": {
          "base_uri": "https://localhost:8080/"
        },
        "id": "J2qCNDYEDg6r",
        "outputId": "7e556a86-f5c7-47ce-b51f-7817f000b5d8"
      },
      "execution_count": null,
      "outputs": [
        {
          "output_type": "stream",
          "name": "stdout",
          "text": [
            "<class 'int'>\n"
          ]
        }
      ]
    },
    {
      "cell_type": "code",
      "source": [
        "# float datatype\n",
        "f =37.2\n",
        "print(type(f))"
      ],
      "metadata": {
        "colab": {
          "base_uri": "https://localhost:8080/"
        },
        "id": "7cPlE6BlD7yA",
        "outputId": "e4288d3b-a114-4bca-8a87-f6d09fd2a392"
      },
      "execution_count": null,
      "outputs": [
        {
          "output_type": "stream",
          "name": "stdout",
          "text": [
            "<class 'float'>\n"
          ]
        }
      ]
    },
    {
      "cell_type": "code",
      "source": [
        "# boolean datatype\n",
        "a=True;\n",
        "b=False;\n",
        "print(type(a))\n",
        "print(type(b))"
      ],
      "metadata": {
        "colab": {
          "base_uri": "https://localhost:8080/"
        },
        "id": "8BTAsRJdEcc7",
        "outputId": "cd082f15-42b9-493d-bc86-a7654ecf01e0"
      },
      "execution_count": null,
      "outputs": [
        {
          "output_type": "stream",
          "name": "stdout",
          "text": [
            "<class 'bool'>\n",
            "<class 'bool'>\n"
          ]
        }
      ]
    },
    {
      "cell_type": "code",
      "source": [
        "# complex data type\n",
        "c=2+5j\n",
        "print(type(c))"
      ],
      "metadata": {
        "colab": {
          "base_uri": "https://localhost:8080/"
        },
        "id": "1lgXsUHgFkDa",
        "outputId": "975a1d42-2978-4058-c81b-34418cc71d68"
      },
      "execution_count": null,
      "outputs": [
        {
          "output_type": "stream",
          "name": "stdout",
          "text": [
            "<class 'complex'>\n"
          ]
        }
      ]
    },
    {
      "cell_type": "code",
      "source": [
        "# string data type\n",
        "s=\"python is good start for datascience and machine laerning\"\n",
        "print(type(s))"
      ],
      "metadata": {
        "colab": {
          "base_uri": "https://localhost:8080/"
        },
        "id": "QKE0fRlaGLwx",
        "outputId": "b2dc32bd-e4d5-4499-9e1e-c5f623233ce7"
      },
      "execution_count": null,
      "outputs": [
        {
          "output_type": "stream",
          "name": "stdout",
          "text": [
            "<class 'str'>\n"
          ]
        }
      ]
    },
    {
      "cell_type": "code",
      "source": [
        "# type conversion in python\n",
        "# type conversion int to flaot\n",
        "i=372\n",
        "f=float(i)\n",
        "print(f)\n",
        "# data lose ---> explicit type conversion\n",
        "# no data lose ---> implicit type conversion\n",
        "\n",
        "\n"
      ],
      "metadata": {
        "colab": {
          "base_uri": "https://localhost:8080/"
        },
        "id": "0OXZoI1UG9mg",
        "outputId": "0ef0dcac-4e3b-4149-9efc-796d8d4f8c6a"
      },
      "execution_count": null,
      "outputs": [
        {
          "output_type": "stream",
          "name": "stdout",
          "text": [
            "372.0\n"
          ]
        }
      ]
    },
    {
      "cell_type": "markdown",
      "source": [
        "control statements in python\n",
        "\n",
        " there are three types\n",
        "\n",
        " 1. conditional statements\n",
        "   \n",
        "    * In conditional statements there are 4\n",
        "\n",
        "    if,\n",
        "    else,\n",
        "    elif,\n",
        "    nested if\n",
        "\n",
        " 2. Looping statements\n",
        "\n",
        "     * In Looping statements there are 3\n",
        "\n",
        "     for,\n",
        "     while,\n",
        "     nested loops\n",
        "\n",
        " 3. Jumping statements\n",
        "\n",
        "     * In Jumping statements there are 3\n",
        "\n",
        "     pass,\n",
        "     continue,\n",
        "     Break       \n"
      ],
      "metadata": {
        "id": "y_L69RYKKG4Q"
      }
    },
    {
      "cell_type": "code",
      "source": [
        "# conditional statements in python\n",
        "age=23\n",
        "if age>18:\n",
        "  print(\"you are elible for voting\")\n",
        "elif age==18:\n",
        "  print(\"you are also elible for voting\")\n",
        "else:\n",
        "  print(\"wait until you get 18 years\")\n"
      ],
      "metadata": {
        "colab": {
          "base_uri": "https://localhost:8080/"
        },
        "id": "KlOshkC9MD62",
        "outputId": "073e460f-8f43-4897-bed9-5664165748db"
      },
      "execution_count": null,
      "outputs": [
        {
          "output_type": "stream",
          "name": "stdout",
          "text": [
            "you are elible for voting\n"
          ]
        }
      ]
    },
    {
      "cell_type": "code",
      "source": [
        "#nested if in python\n",
        "if True:\n",
        "  print(\"hi prajith\")\n",
        "  if True:\n",
        "    print(\"bye prajith\")\n",
        "else:\n",
        "  print()"
      ],
      "metadata": {
        "colab": {
          "base_uri": "https://localhost:8080/"
        },
        "id": "cyAfzfP0N9-o",
        "outputId": "ab168f75-5e73-4d32-c7e7-bb9304444732"
      },
      "execution_count": null,
      "outputs": [
        {
          "output_type": "stream",
          "name": "stdout",
          "text": [
            "hi prajith\n",
            "bye prajith\n"
          ]
        }
      ]
    },
    {
      "cell_type": "code",
      "source": [
        "#looping statements\n",
        "#for loop\n",
        "for i in range(0,10):\n",
        "  print(i,end=\" \")\n"
      ],
      "metadata": {
        "colab": {
          "base_uri": "https://localhost:8080/"
        },
        "id": "AT-6vLij0LCJ",
        "outputId": "aee0eb71-1780-4c2f-e1b2-b528fca36def"
      },
      "execution_count": null,
      "outputs": [
        {
          "output_type": "stream",
          "name": "stdout",
          "text": [
            "0 1 2 3 4 5 6 7 8 9 "
          ]
        }
      ]
    },
    {
      "cell_type": "code",
      "source": [
        "b=\"prajith\"\n",
        "for k in b:\n",
        "  print(k,end=\" \")"
      ],
      "metadata": {
        "colab": {
          "base_uri": "https://localhost:8080/"
        },
        "id": "YiC956qE1oBG",
        "outputId": "965e8e56-d635-4c07-c879-8a0067a0d55c"
      },
      "execution_count": null,
      "outputs": [
        {
          "output_type": "stream",
          "name": "stdout",
          "text": [
            "p r a j i t h "
          ]
        }
      ]
    },
    {
      "cell_type": "code",
      "source": [
        "#while loop\n",
        "k=10\n",
        "while k<20:\n",
        "  print(\"hi\")\n",
        "  k+=1"
      ],
      "metadata": {
        "colab": {
          "base_uri": "https://localhost:8080/"
        },
        "id": "2o0y8y8O19st",
        "outputId": "39763312-63ef-4a4a-e5c9-1c999b390036"
      },
      "execution_count": null,
      "outputs": [
        {
          "output_type": "stream",
          "name": "stdout",
          "text": [
            "hi\n",
            "hi\n",
            "hi\n",
            "hi\n",
            "hi\n",
            "hi\n",
            "hi\n",
            "hi\n",
            "hi\n",
            "hi\n"
          ]
        }
      ]
    },
    {
      "cell_type": "code",
      "source": [
        "#nested for loop\n",
        "for i in range(0,10):\n",
        "  for j in range(0,10):\n",
        "    print(i+j,end=\"  \")"
      ],
      "metadata": {
        "colab": {
          "base_uri": "https://localhost:8080/"
        },
        "id": "eUGk--aP26dO",
        "outputId": "7959acfb-57f5-40ce-c40e-e9c77a333d84"
      },
      "execution_count": null,
      "outputs": [
        {
          "output_type": "stream",
          "name": "stdout",
          "text": [
            "0  1  2  3  4  5  6  7  8  9  1  2  3  4  5  6  7  8  9  10  2  3  4  5  6  7  8  9  10  11  3  4  5  6  7  8  9  10  11  12  4  5  6  7  8  9  10  11  12  13  5  6  7  8  9  10  11  12  13  14  6  7  8  9  10  11  12  13  14  15  7  8  9  10  11  12  13  14  15  16  8  9  10  11  12  13  14  15  16  17  9  10  11  12  13  14  15  16  17  18  "
          ]
        }
      ]
    },
    {
      "cell_type": "code",
      "source": [
        "#while loop\n",
        "prajith=372;\n",
        "while prajith<382:\n",
        "  print(\"hello\",prajith)\n",
        "  prajith+=1\n"
      ],
      "metadata": {
        "colab": {
          "base_uri": "https://localhost:8080/"
        },
        "id": "8OThUcfF3V6H",
        "outputId": "59a97f6a-71b0-4898-ab58-ab1b8e1c099c"
      },
      "execution_count": null,
      "outputs": [
        {
          "output_type": "stream",
          "name": "stdout",
          "text": [
            "hello 372\n",
            "hello 373\n",
            "hello 374\n",
            "hello 375\n",
            "hello 376\n",
            "hello 377\n",
            "hello 378\n",
            "hello 379\n",
            "hello 380\n",
            "hello 381\n"
          ]
        }
      ]
    },
    {
      "cell_type": "code",
      "source": [
        "for i in range(0,10):\n",
        "  for j in range(0,100):\n",
        "    print(i+j,end=\" \")"
      ],
      "metadata": {
        "colab": {
          "base_uri": "https://localhost:8080/"
        },
        "id": "b3E4jK7R45GZ",
        "outputId": "13471223-2d03-4a3e-9ed4-0ed531d4108f"
      },
      "execution_count": null,
      "outputs": [
        {
          "output_type": "stream",
          "name": "stdout",
          "text": [
            "0 1 2 3 4 5 6 7 8 9 10 11 12 13 14 15 16 17 18 19 20 21 22 23 24 25 26 27 28 29 30 31 32 33 34 35 36 37 38 39 40 41 42 43 44 45 46 47 48 49 50 51 52 53 54 55 56 57 58 59 60 61 62 63 64 65 66 67 68 69 70 71 72 73 74 75 76 77 78 79 80 81 82 83 84 85 86 87 88 89 90 91 92 93 94 95 96 97 98 99 1 2 3 4 5 6 7 8 9 10 11 12 13 14 15 16 17 18 19 20 21 22 23 24 25 26 27 28 29 30 31 32 33 34 35 36 37 38 39 40 41 42 43 44 45 46 47 48 49 50 51 52 53 54 55 56 57 58 59 60 61 62 63 64 65 66 67 68 69 70 71 72 73 74 75 76 77 78 79 80 81 82 83 84 85 86 87 88 89 90 91 92 93 94 95 96 97 98 99 100 2 3 4 5 6 7 8 9 10 11 12 13 14 15 16 17 18 19 20 21 22 23 24 25 26 27 28 29 30 31 32 33 34 35 36 37 38 39 40 41 42 43 44 45 46 47 48 49 50 51 52 53 54 55 56 57 58 59 60 61 62 63 64 65 66 67 68 69 70 71 72 73 74 75 76 77 78 79 80 81 82 83 84 85 86 87 88 89 90 91 92 93 94 95 96 97 98 99 100 101 3 4 5 6 7 8 9 10 11 12 13 14 15 16 17 18 19 20 21 22 23 24 25 26 27 28 29 30 31 32 33 34 35 36 37 38 39 40 41 42 43 44 45 46 47 48 49 50 51 52 53 54 55 56 57 58 59 60 61 62 63 64 65 66 67 68 69 70 71 72 73 74 75 76 77 78 79 80 81 82 83 84 85 86 87 88 89 90 91 92 93 94 95 96 97 98 99 100 101 102 4 5 6 7 8 9 10 11 12 13 14 15 16 17 18 19 20 21 22 23 24 25 26 27 28 29 30 31 32 33 34 35 36 37 38 39 40 41 42 43 44 45 46 47 48 49 50 51 52 53 54 55 56 57 58 59 60 61 62 63 64 65 66 67 68 69 70 71 72 73 74 75 76 77 78 79 80 81 82 83 84 85 86 87 88 89 90 91 92 93 94 95 96 97 98 99 100 101 102 103 5 6 7 8 9 10 11 12 13 14 15 16 17 18 19 20 21 22 23 24 25 26 27 28 29 30 31 32 33 34 35 36 37 38 39 40 41 42 43 44 45 46 47 48 49 50 51 52 53 54 55 56 57 58 59 60 61 62 63 64 65 66 67 68 69 70 71 72 73 74 75 76 77 78 79 80 81 82 83 84 85 86 87 88 89 90 91 92 93 94 95 96 97 98 99 100 101 102 103 104 6 7 8 9 10 11 12 13 14 15 16 17 18 19 20 21 22 23 24 25 26 27 28 29 30 31 32 33 34 35 36 37 38 39 40 41 42 43 44 45 46 47 48 49 50 51 52 53 54 55 56 57 58 59 60 61 62 63 64 65 66 67 68 69 70 71 72 73 74 75 76 77 78 79 80 81 82 83 84 85 86 87 88 89 90 91 92 93 94 95 96 97 98 99 100 101 102 103 104 105 7 8 9 10 11 12 13 14 15 16 17 18 19 20 21 22 23 24 25 26 27 28 29 30 31 32 33 34 35 36 37 38 39 40 41 42 43 44 45 46 47 48 49 50 51 52 53 54 55 56 57 58 59 60 61 62 63 64 65 66 67 68 69 70 71 72 73 74 75 76 77 78 79 80 81 82 83 84 85 86 87 88 89 90 91 92 93 94 95 96 97 98 99 100 101 102 103 104 105 106 8 9 10 11 12 13 14 15 16 17 18 19 20 21 22 23 24 25 26 27 28 29 30 31 32 33 34 35 36 37 38 39 40 41 42 43 44 45 46 47 48 49 50 51 52 53 54 55 56 57 58 59 60 61 62 63 64 65 66 67 68 69 70 71 72 73 74 75 76 77 78 79 80 81 82 83 84 85 86 87 88 89 90 91 92 93 94 95 96 97 98 99 100 101 102 103 104 105 106 107 9 10 11 12 13 14 15 16 17 18 19 20 21 22 23 24 25 26 27 28 29 30 31 32 33 34 35 36 37 38 39 40 41 42 43 44 45 46 47 48 49 50 51 52 53 54 55 56 57 58 59 60 61 62 63 64 65 66 67 68 69 70 71 72 73 74 75 76 77 78 79 80 81 82 83 84 85 86 87 88 89 90 91 92 93 94 95 96 97 98 99 100 101 102 103 104 105 106 107 108 "
          ]
        }
      ]
    },
    {
      "cell_type": "code",
      "source": [
        "#jumping statements in python\n",
        "# there are three types of jumping statements in python\n",
        "# pass,break,continue\n",
        "#break\n",
        "for i in \"Prajith\":\n",
        "  if i=='h':\n",
        "    break\n",
        "  print(i)\n"
      ],
      "metadata": {
        "colab": {
          "base_uri": "https://localhost:8080/"
        },
        "id": "eGZFuEN95S2k",
        "outputId": "7f0249df-16b3-40b0-ffb5-6444a290ced9"
      },
      "execution_count": null,
      "outputs": [
        {
          "output_type": "stream",
          "name": "stdout",
          "text": [
            "P\n",
            "r\n",
            "a\n",
            "j\n",
            "i\n",
            "t\n"
          ]
        }
      ]
    },
    {
      "cell_type": "code",
      "source": [
        "#continue\n",
        "for i in \"prajith\":\n",
        "  if i=='a':\n",
        "    continue\n",
        "  print(i)\n"
      ],
      "metadata": {
        "colab": {
          "base_uri": "https://localhost:8080/"
        },
        "id": "rMa9lM9I8fuJ",
        "outputId": "2b13b013-e1be-43d4-ef9f-e7ab88dedd9d"
      },
      "execution_count": null,
      "outputs": [
        {
          "output_type": "stream",
          "name": "stdout",
          "text": [
            "p\n",
            "r\n",
            "j\n",
            "i\n",
            "t\n",
            "h\n"
          ]
        }
      ]
    },
    {
      "cell_type": "code",
      "source": [
        "# strings in python\n",
        "# string : collection ofcharacters\n",
        "# we will define a string in three ways\n",
        "# single quotes (' ')\n",
        "#  double quotes (\" \")\n",
        "# Triple quotes (''' ''')\n",
        "''' string methods\n",
        "1.lower()\n",
        "2.upper()\n",
        "3.endswith()\n",
        "4.startswith()\n",
        "5.replace()\n",
        "6.split()\n",
        "7.count()\n",
        "8.Rstrip()\n",
        "9.Lstrip()\n",
        "10.strip()\n",
        "11.removeprefix()\n",
        "12.removesuffix()\n",
        "13.index()\n",
        "14.find()\n",
        "'''\n",
        "#upper()\n",
        "pythoncourse=\"please login\"\n",
        "print(pythoncourse.upper());\n"
      ],
      "metadata": {
        "colab": {
          "base_uri": "https://localhost:8080/"
        },
        "id": "AeAONsBzKhkw",
        "outputId": "b27931f8-fefe-4239-851d-555b6c7a1e36"
      },
      "execution_count": null,
      "outputs": [
        {
          "output_type": "stream",
          "name": "stdout",
          "text": [
            "PLEASE LOGIN\n"
          ]
        }
      ]
    },
    {
      "cell_type": "code",
      "source": [
        "#lower()\n",
        "pythoncourse=\"PLEASE LOGIN\"\n",
        "print(pythoncourse.lower());"
      ],
      "metadata": {
        "colab": {
          "base_uri": "https://localhost:8080/"
        },
        "id": "YiufJ3NTOuvz",
        "outputId": "94f35691-2526-4118-dc1b-7bae1dc7c0e1"
      },
      "execution_count": null,
      "outputs": [
        {
          "output_type": "stream",
          "name": "stdout",
          "text": [
            "please login\n"
          ]
        }
      ]
    },
    {
      "cell_type": "code",
      "source": [
        "#endswith()\n",
        "pythoncourse =\"please login\"\n",
        "print(pythoncourse.endswith(\"n\"));"
      ],
      "metadata": {
        "colab": {
          "base_uri": "https://localhost:8080/"
        },
        "id": "ewouN_qFPUHQ",
        "outputId": "1acea88b-51bd-41d8-998b-d2b0f479ec25"
      },
      "execution_count": null,
      "outputs": [
        {
          "output_type": "stream",
          "name": "stdout",
          "text": [
            "True\n"
          ]
        }
      ]
    },
    {
      "cell_type": "code",
      "source": [
        "#replace()\n",
        "pythoncourse=\"please login\"\n",
        "print(pythoncourse.replace(\"login\",\"learn\"));"
      ],
      "metadata": {
        "colab": {
          "base_uri": "https://localhost:8080/"
        },
        "id": "nC5__KrfQpRG",
        "outputId": "46848cdb-b72f-4bc7-c48f-219eef09ee0c"
      },
      "execution_count": null,
      "outputs": [
        {
          "output_type": "stream",
          "name": "stdout",
          "text": [
            "please learn\n"
          ]
        }
      ]
    },
    {
      "cell_type": "code",
      "source": [
        "#index()\n",
        "#find()\n",
        "#count()\n",
        "pythoncourse=\"please login\"\n",
        "print(pythoncourse.index(\"a\"))\n",
        "print(pythoncourse.find(\"a\"))\n",
        "print(pythoncourse.count('login'))"
      ],
      "metadata": {
        "colab": {
          "base_uri": "https://localhost:8080/"
        },
        "id": "j46QGD_wRQnG",
        "outputId": "fcb2724f-fb6e-4c2b-9fb2-2285e4e42a1c"
      },
      "execution_count": null,
      "outputs": [
        {
          "output_type": "stream",
          "name": "stdout",
          "text": [
            "3\n",
            "3\n",
            "1\n"
          ]
        }
      ]
    },
    {
      "cell_type": "code",
      "source": [
        "#removeprefix()\n",
        "pythoncourse=\"please login\"\n",
        "print(pythoncourse.removeprefix(\"please\"));"
      ],
      "metadata": {
        "colab": {
          "base_uri": "https://localhost:8080/"
        },
        "id": "iNa65KjMS9Nn",
        "outputId": "6f8814b7-acf8-44d1-d10e-e47b65040d07"
      },
      "execution_count": null,
      "outputs": [
        {
          "output_type": "stream",
          "name": "stdout",
          "text": [
            " login\n"
          ]
        }
      ]
    },
    {
      "cell_type": "code",
      "source": [
        "#removesuffix()\n",
        "pythoncourse=\"please login\"\n",
        "print(pythoncourse.removesuffix(\"login\"))"
      ],
      "metadata": {
        "colab": {
          "base_uri": "https://localhost:8080/"
        },
        "id": "gVwnLpEYTYVU",
        "outputId": "a5ef3a71-7bb8-43ac-d93b-b4913071229a"
      },
      "execution_count": null,
      "outputs": [
        {
          "output_type": "stream",
          "name": "stdout",
          "text": [
            "please \n"
          ]
        }
      ]
    },
    {
      "cell_type": "code",
      "source": [
        "#split()\n",
        "pythoncourse=\"please login\"\n",
        "print(pythoncourse.split(\"please\"));"
      ],
      "metadata": {
        "colab": {
          "base_uri": "https://localhost:8080/"
        },
        "id": "UiMG9MzMVIpP",
        "outputId": "63787903-66ea-42c3-807e-069908b0600a"
      },
      "execution_count": null,
      "outputs": [
        {
          "output_type": "stream",
          "name": "stdout",
          "text": [
            "['', ' login']\n"
          ]
        }
      ]
    },
    {
      "cell_type": "code",
      "source": [
        "#len()\n",
        "#strip()\n",
        "pythoncourse=\"please login\"\n",
        "print(len(pythoncourse))\n",
        "print(pythoncourse.strip(\"please\"))"
      ],
      "metadata": {
        "colab": {
          "base_uri": "https://localhost:8080/"
        },
        "id": "O2fLFbi2VqkV",
        "outputId": "8b181b19-b63d-4faa-ab06-eac33861c625"
      },
      "execution_count": null,
      "outputs": [
        {
          "output_type": "stream",
          "name": "stdout",
          "text": [
            "12\n",
            " login\n"
          ]
        }
      ]
    },
    {
      "cell_type": "markdown",
      "source": [
        "List in python [ ]\n",
        "\n",
        "List is a mutable datatype : we can modify it\n",
        "\n",
        "store different types of elements\n",
        "\n",
        "list allows duplicates\n",
        "\n",
        "list allow indexing\n",
        "\n",
        "List methods : append,Extend,Remove,Pop,count,index."
      ],
      "metadata": {
        "id": "2r5tXU0rN0LD"
      }
    },
    {
      "cell_type": "code",
      "source": [
        "#list [ ]\n",
        "l=[]\n",
        "print(type(l))"
      ],
      "metadata": {
        "colab": {
          "base_uri": "https://localhost:8080/"
        },
        "id": "e5-kE9RLPS64",
        "outputId": "67fe874b-3f41-423a-d51c-915137e91e68"
      },
      "execution_count": null,
      "outputs": [
        {
          "output_type": "stream",
          "name": "stdout",
          "text": [
            "<class 'list'>\n"
          ]
        }
      ]
    },
    {
      "cell_type": "code",
      "source": [
        "l=[1,24,1,4,372,382,5,'prajith']\n",
        "print(l[3])\n",
        "#slicing\n",
        "print(l[0:4])\n",
        "print(l[0:8])\n"
      ],
      "metadata": {
        "colab": {
          "base_uri": "https://localhost:8080/"
        },
        "id": "hKKeNeQpPmkO",
        "outputId": "db469682-87cf-49fe-abf3-7d1f2a938923"
      },
      "execution_count": null,
      "outputs": [
        {
          "output_type": "stream",
          "name": "stdout",
          "text": [
            "4\n",
            "[1, 24, 1, 4]\n",
            "[1, 24, 1, 4, 372, 382, 5, 'prajith']\n"
          ]
        }
      ]
    },
    {
      "cell_type": "code",
      "source": [
        "#append()\n",
        "l=[22,373,383,59,69,382,'prajith']\n",
        "l.append('python learning')\n",
        "print(l)"
      ],
      "metadata": {
        "colab": {
          "base_uri": "https://localhost:8080/"
        },
        "id": "TuA96RctQdU-",
        "outputId": "cb637e5e-4787-44b9-85b6-4df6628e21ec"
      },
      "execution_count": null,
      "outputs": [
        {
          "output_type": "stream",
          "name": "stdout",
          "text": [
            "[22, 373, 383, 59, 69, 382, 'prajith', 'python learning']\n"
          ]
        }
      ]
    },
    {
      "cell_type": "code",
      "source": [
        "#extend()\n",
        "l=[22,373,383,59,69,382,'prajith']\n",
        "l.extend([482,582,682,782,'python learning'])\n",
        "print(l)"
      ],
      "metadata": {
        "colab": {
          "base_uri": "https://localhost:8080/"
        },
        "id": "5iCYuJi1RYn-",
        "outputId": "400baff5-5b50-4fa9-bb57-5f691f4f6d45"
      },
      "execution_count": null,
      "outputs": [
        {
          "output_type": "stream",
          "name": "stdout",
          "text": [
            "[22, 373, 383, 59, 69, 382, 'prajith', 482, 582, 682, 782, 'python learning']\n"
          ]
        }
      ]
    },
    {
      "cell_type": "code",
      "source": [
        "#count( )\n",
        "l=[382,392,482,592,'prajith']\n",
        "print(l.count(2))\n",
        "print(l)\n"
      ],
      "metadata": {
        "colab": {
          "base_uri": "https://localhost:8080/"
        },
        "id": "vaT6cmTUSKj4",
        "outputId": "0b14455c-65a7-4c10-8fb7-8a51e7473ab5"
      },
      "execution_count": null,
      "outputs": [
        {
          "output_type": "stream",
          "name": "stdout",
          "text": [
            "0\n",
            "[382, 392, 482, 592, 'prajith']\n"
          ]
        }
      ]
    },
    {
      "cell_type": "code",
      "source": [
        "#remove( )\n",
        "l=[382,392,492,592,'prajith']\n",
        "print(l.remove('prajith'))\n",
        "print(l);"
      ],
      "metadata": {
        "colab": {
          "base_uri": "https://localhost:8080/"
        },
        "id": "OHuFfxm3TCqX",
        "outputId": "596a1a9f-d436-4188-8352-7265e532e532"
      },
      "execution_count": null,
      "outputs": [
        {
          "output_type": "stream",
          "name": "stdout",
          "text": [
            "None\n",
            "[382, 392, 492, 592]\n"
          ]
        }
      ]
    },
    {
      "cell_type": "code",
      "source": [
        "#pop\n",
        "l=['prajith','kiran','ravi','kishore']\n",
        "print(l.pop(3))\n",
        "print(l);"
      ],
      "metadata": {
        "colab": {
          "base_uri": "https://localhost:8080/"
        },
        "id": "xvmAMG_9Tl7C",
        "outputId": "676e4d1d-fd5d-47aa-b7ae-b19d12a92cfa"
      },
      "execution_count": null,
      "outputs": [
        {
          "output_type": "stream",
          "name": "stdout",
          "text": [
            "kishore\n",
            "['prajith', 'kiran', 'ravi']\n"
          ]
        }
      ]
    },
    {
      "cell_type": "code",
      "source": [
        "#index()\n",
        "l=['prajith','kishore','ravi','kiran','aravind','srinu',372]\n",
        "print(l.index(372))\n",
        "print(l.index('kiran'))\n",
        "print(l);"
      ],
      "metadata": {
        "colab": {
          "base_uri": "https://localhost:8080/"
        },
        "id": "je2ZzzWRU99B",
        "outputId": "7ca54ba9-8442-46f7-bd8d-361206e57566"
      },
      "execution_count": null,
      "outputs": [
        {
          "output_type": "stream",
          "name": "stdout",
          "text": [
            "6\n",
            "3\n",
            "['prajith', 'kishore', 'ravi', 'kiran', 'aravind', 'srinu', 372]\n"
          ]
        }
      ]
    },
    {
      "cell_type": "code",
      "source": [
        "#insert()\n",
        "l=['prajith','kishore','ganesh','ravi',372]\n",
        "l.insert(382,392);\n",
        "print(l)"
      ],
      "metadata": {
        "colab": {
          "base_uri": "https://localhost:8080/"
        },
        "id": "s9wS0UfGWUS-",
        "outputId": "24bc0691-52d1-4a96-9d47-03605858a4f7"
      },
      "execution_count": null,
      "outputs": [
        {
          "output_type": "stream",
          "name": "stdout",
          "text": [
            "['prajith', 'kishore', 'ganesh', 'ravi', 372, 392]\n"
          ]
        }
      ]
    },
    {
      "cell_type": "markdown",
      "source": [
        "Tuple( ) in python\n",
        "\n",
        "allow different types of elements\n",
        "\n",
        "allow duplicates\n",
        "\n",
        "allow index and slicing\n",
        "\n",
        "Immutable : we cannot modify\n",
        "\n",
        "ex : a=(1,2,3,4,5,'prajith')\n",
        "\n",
        "Tuple operations\n",
        "\n",
        "1.concatination,\n",
        "2.iteration,\n",
        "3.membership operation,\n",
        "4.identity operation,\n",
        "5.repetation,"
      ],
      "metadata": {
        "id": "EfzgMjpNXk-N"
      }
    },
    {
      "cell_type": "code",
      "source": [
        "#Tuple()\n",
        "c=()\n",
        "print(type(c))"
      ],
      "metadata": {
        "colab": {
          "base_uri": "https://localhost:8080/"
        },
        "id": "-wAE3xI6Y7IH",
        "outputId": "6cdd460a-911b-408e-d9c0-4a1ec536b225"
      },
      "execution_count": null,
      "outputs": [
        {
          "output_type": "stream",
          "name": "stdout",
          "text": [
            "<class 'tuple'>\n"
          ]
        }
      ]
    },
    {
      "cell_type": "code",
      "source": [
        "c=(1,22,1,3,14,14,'prajith')\n",
        "print(c[5])\n",
        "print(c[0:4:2])"
      ],
      "metadata": {
        "colab": {
          "base_uri": "https://localhost:8080/"
        },
        "id": "FoKSYGNNZDs9",
        "outputId": "da11dfd0-4d09-499c-ed20-c54598d4eb01"
      },
      "execution_count": null,
      "outputs": [
        {
          "output_type": "stream",
          "name": "stdout",
          "text": [
            "14\n",
            "(1, 1)\n"
          ]
        }
      ]
    },
    {
      "cell_type": "code",
      "source": [
        "T=(1,22,33,44,55,66,77,88)\n",
        "print(min(T))\n",
        "print(max(T))\n"
      ],
      "metadata": {
        "colab": {
          "base_uri": "https://localhost:8080/"
        },
        "id": "lN0FX8WYZodc",
        "outputId": "dc8f63a1-3a91-4d2b-900a-640ba02ce2de"
      },
      "execution_count": null,
      "outputs": [
        {
          "output_type": "stream",
          "name": "stdout",
          "text": [
            "1\n",
            "88\n"
          ]
        }
      ]
    },
    {
      "cell_type": "code",
      "source": [
        "T=(372,382)\n",
        "print(sum(T))\n",
        "print(len(T))"
      ],
      "metadata": {
        "colab": {
          "base_uri": "https://localhost:8080/"
        },
        "id": "guEY_FYCaR--",
        "outputId": "a01c29ab-6175-44a5-cc6d-1e91de7b2798"
      },
      "execution_count": null,
      "outputs": [
        {
          "output_type": "stream",
          "name": "stdout",
          "text": [
            "754\n",
            "2\n"
          ]
        }
      ]
    },
    {
      "cell_type": "code",
      "source": [
        "#concatination using Tuple()\n",
        "t1=(1,2,3,4,5)\n",
        "t2=(6,7,8,9,10)\n",
        "print(t1+t2)\n"
      ],
      "metadata": {
        "colab": {
          "base_uri": "https://localhost:8080/"
        },
        "id": "HlnvVMkradE3",
        "outputId": "a3f09125-5622-4266-d3c6-de0d2225b803"
      },
      "execution_count": null,
      "outputs": [
        {
          "output_type": "stream",
          "name": "stdout",
          "text": [
            "(1, 2, 3, 4, 5, 6, 7, 8, 9, 10)\n"
          ]
        }
      ]
    },
    {
      "cell_type": "code",
      "source": [
        "#repetation using Tuple()\n",
        "T=(1,24,1,4,5,7)\n",
        "#print(T*11)\n",
        "for i in T:\n",
        "  print(i)\n"
      ],
      "metadata": {
        "colab": {
          "base_uri": "https://localhost:8080/"
        },
        "id": "djrMK-jibKQT",
        "outputId": "331f9514-e8d3-4b77-aefa-ad7523e6cce1"
      },
      "execution_count": null,
      "outputs": [
        {
          "output_type": "stream",
          "name": "stdout",
          "text": [
            "1\n",
            "24\n",
            "1\n",
            "4\n",
            "5\n",
            "7\n"
          ]
        }
      ]
    },
    {
      "cell_type": "code",
      "source": [
        "#membership operation using Tuple()\n",
        "T=(1,24,25,26,27,28)\n",
        "print(11 not in T)\n",
        "print(24 not in T)"
      ],
      "metadata": {
        "colab": {
          "base_uri": "https://localhost:8080/"
        },
        "id": "2SETUEQDb1KN",
        "outputId": "2c5fd890-6f78-4aa5-fcea-6bf510b8951a"
      },
      "execution_count": null,
      "outputs": [
        {
          "output_type": "stream",
          "name": "stdout",
          "text": [
            "True\n",
            "False\n"
          ]
        }
      ]
    },
    {
      "cell_type": "code",
      "source": [
        "t1=(1,2,3)\n",
        "t2=(4,5,6)\n",
        "print(t1 is t2)\n",
        "print(t1 is not t2)"
      ],
      "metadata": {
        "colab": {
          "base_uri": "https://localhost:8080/"
        },
        "id": "rA9WIN71cuBT",
        "outputId": "562cf77c-ecac-4c41-c150-580ab0d50d22"
      },
      "execution_count": null,
      "outputs": [
        {
          "output_type": "stream",
          "name": "stdout",
          "text": [
            "False\n",
            "True\n"
          ]
        }
      ]
    },
    {
      "cell_type": "markdown",
      "source": [
        "Dictionary in python{ }\n",
        "\n",
        "key value pair\n",
        "\n",
        "\n",
        "key should be immutable\n",
        "\n",
        "value should be mutable\n",
        "\n",
        "a={'a':123,1:\"abc\"}\n",
        "\n",
        "a = key\n",
        "\n",
        "123 = value\n",
        "\n",
        "key will act as index\n",
        "\n",
        "No slicing\n",
        "\n",
        "Keys are unique\n",
        "\n",
        "dectionary methods : get(),update(),values(),\n",
        "keys(),items()\n",
        "\n",
        "\n",
        "\n"
      ],
      "metadata": {
        "id": "DSItYvqwjpb8"
      }
    },
    {
      "cell_type": "code",
      "source": [
        "#Dictionary\n",
        "d={}\n",
        "print(type(d))"
      ],
      "metadata": {
        "colab": {
          "base_uri": "https://localhost:8080/"
        },
        "id": "r5UTaDeIlStA",
        "outputId": "4c2ca29d-bc3a-4680-b46c-f64d54812854"
      },
      "execution_count": null,
      "outputs": [
        {
          "output_type": "stream",
          "name": "stdout",
          "text": [
            "<class 'dict'>\n"
          ]
        }
      ]
    },
    {
      "cell_type": "code",
      "source": [
        "d={1:'abc',24:'prajith','pythoncourse':1}\n",
        "print(d[24])"
      ],
      "metadata": {
        "colab": {
          "base_uri": "https://localhost:8080/"
        },
        "id": "l9F8q-1wlkJa",
        "outputId": "7dc706a0-53af-46e5-e455-f7392645a724"
      },
      "execution_count": null,
      "outputs": [
        {
          "output_type": "stream",
          "name": "stdout",
          "text": [
            "prajith\n"
          ]
        }
      ]
    },
    {
      "cell_type": "code",
      "source": [
        "d={1:'abc',24:'prajith','pythoncourse':1} #get() method\n",
        "print(d.get(1))"
      ],
      "metadata": {
        "colab": {
          "base_uri": "https://localhost:8080/"
        },
        "id": "HmcCBF21l8LI",
        "outputId": "534a8b5a-f82b-4ed5-8d3d-cf7c937a1541"
      },
      "execution_count": null,
      "outputs": [
        {
          "output_type": "stream",
          "name": "stdout",
          "text": [
            "abc\n"
          ]
        }
      ]
    },
    {
      "cell_type": "code",
      "source": [
        "#keys()\n",
        "print(d.keys())"
      ],
      "metadata": {
        "colab": {
          "base_uri": "https://localhost:8080/"
        },
        "id": "dsLRSbIbmUCw",
        "outputId": "f548b761-8cf2-49f1-ff99-cfc718f603ce"
      },
      "execution_count": null,
      "outputs": [
        {
          "output_type": "stream",
          "name": "stdout",
          "text": [
            "dict_keys([1, 24, 'pythoncourse'])\n"
          ]
        }
      ]
    },
    {
      "cell_type": "code",
      "source": [
        "#values()\n",
        "print(d.values())"
      ],
      "metadata": {
        "colab": {
          "base_uri": "https://localhost:8080/"
        },
        "id": "JDRYGlhBmZp0",
        "outputId": "dee57ec5-955c-441a-da8f-3b53665bd5b6"
      },
      "execution_count": null,
      "outputs": [
        {
          "output_type": "stream",
          "name": "stdout",
          "text": [
            "dict_values(['abc', 'prajith', 1])\n"
          ]
        }
      ]
    },
    {
      "cell_type": "code",
      "source": [
        "#update()\n",
        "d.update({1111:2222})\n",
        "print(d)"
      ],
      "metadata": {
        "colab": {
          "base_uri": "https://localhost:8080/"
        },
        "id": "gsg7NxDlmsOT",
        "outputId": "078b4f20-9bb5-4b15-f12f-68c5d9c7e002"
      },
      "execution_count": null,
      "outputs": [
        {
          "output_type": "stream",
          "name": "stdout",
          "text": [
            "{1: 'abc', 24: 'prajith', 'pythoncourse': 1, 1111: 2222}\n"
          ]
        }
      ]
    },
    {
      "cell_type": "code",
      "source": [
        "print(d.items()) #items()"
      ],
      "metadata": {
        "colab": {
          "base_uri": "https://localhost:8080/"
        },
        "id": "ToMGVQj7m8dp",
        "outputId": "a0727cc1-407b-43f3-c8b6-0c4969a82b45"
      },
      "execution_count": null,
      "outputs": [
        {
          "output_type": "stream",
          "name": "stdout",
          "text": [
            "dict_items([(1, 'abc'), (24, 'prajith'), ('pythoncourse', 1), (1111, 2222)])\n"
          ]
        }
      ]
    },
    {
      "cell_type": "code",
      "source": [
        "#using for loop dictionary implementation\n",
        "for i in {372:'rollno','prajith':24,'learning':'python'}.items():\n",
        "  print(i)\n"
      ],
      "metadata": {
        "colab": {
          "base_uri": "https://localhost:8080/"
        },
        "id": "zPw6czFlnKSm",
        "outputId": "100827fb-638b-4399-d445-4c2ac8e4cf16"
      },
      "execution_count": null,
      "outputs": [
        {
          "output_type": "stream",
          "name": "stdout",
          "text": [
            "(372, 'rollno')\n",
            "('prajith', 24)\n",
            "('learning', 'python')\n"
          ]
        }
      ]
    },
    {
      "cell_type": "markdown",
      "source": [
        "set { }\n",
        "\n",
        "Do not allow duplicates\n",
        "\n",
        "No index\n",
        "\n",
        "Do not allow mutable types as set elements\n",
        "\n",
        "methods : add(),update(),pop(),remove()\n",
        "\n",
        "set operations : union(), intersection(),difference(),subset(),issupert()"
      ],
      "metadata": {
        "id": "vCwinOZooXAB"
      }
    },
    {
      "cell_type": "code",
      "source": [
        "#set {} in python\n",
        "s={1,372,5}\n",
        "print(type(s))\n"
      ],
      "metadata": {
        "colab": {
          "base_uri": "https://localhost:8080/"
        },
        "id": "WjuqeeIOpyjT",
        "outputId": "41a6eb91-c576-4204-e861-f6e6c2f088a7"
      },
      "execution_count": null,
      "outputs": [
        {
          "output_type": "stream",
          "name": "stdout",
          "text": [
            "<class 'set'>\n"
          ]
        }
      ]
    },
    {
      "cell_type": "code",
      "source": [
        "#set{} is an unordered\n",
        "#add{}\n",
        "s={'prajith','ravi','hari'}\n",
        "s.add(372)\n",
        "print(s)"
      ],
      "metadata": {
        "colab": {
          "base_uri": "https://localhost:8080/"
        },
        "id": "W9LJ82p7qBbL",
        "outputId": "03987e5c-26fb-439d-8d89-a90d44332245"
      },
      "execution_count": null,
      "outputs": [
        {
          "output_type": "stream",
          "name": "stdout",
          "text": [
            "{'ravi', 'hari', 372, 'prajith'}\n"
          ]
        }
      ]
    },
    {
      "cell_type": "code",
      "source": [
        "s.update({'kishore'}) #update()\n",
        "print(s)"
      ],
      "metadata": {
        "colab": {
          "base_uri": "https://localhost:8080/"
        },
        "id": "hqKvql6sqzrC",
        "outputId": "d756a2c2-5bf1-49bb-af94-05ff1667d0a5"
      },
      "execution_count": null,
      "outputs": [
        {
          "output_type": "stream",
          "name": "stdout",
          "text": [
            "{1, 'i', 2, 'y', 3, 4, 5, 'r', 6, 7, 'a', 8, 9, 10, 'j', 'ravi', 'vijay', 'prajith', 'v', 'p', 'hari', 372, 't', 'h', 'kishore'}\n"
          ]
        }
      ]
    },
    {
      "cell_type": "code",
      "source": [
        "s={'prajith',6301698279,'Nellore'} #pop()\n",
        "#print(s.pop())\n",
        "s.pop()\n"
      ],
      "metadata": {
        "colab": {
          "base_uri": "https://localhost:8080/",
          "height": 35
        },
        "id": "DE-0kCEvrupz",
        "outputId": "ef126dc8-9bed-4f15-d1c9-0b218d63cac5"
      },
      "execution_count": null,
      "outputs": [
        {
          "output_type": "execute_result",
          "data": {
            "text/plain": [
              "'Nellore'"
            ],
            "application/vnd.google.colaboratory.intrinsic+json": {
              "type": "string"
            }
          },
          "metadata": {},
          "execution_count": 34
        }
      ]
    },
    {
      "cell_type": "code",
      "source": [
        "#remove in set{}\n",
        "s={'prajith',372,6379}\n",
        "s.remove(372)\n",
        "print(s)"
      ],
      "metadata": {
        "colab": {
          "base_uri": "https://localhost:8080/"
        },
        "id": "qnHWIJ7lswCH",
        "outputId": "6832932f-1448-4e2b-b1b7-91e93faff08f"
      },
      "execution_count": null,
      "outputs": [
        {
          "output_type": "stream",
          "name": "stdout",
          "text": [
            "{6379, 'prajith'}\n"
          ]
        }
      ]
    },
    {
      "cell_type": "code",
      "source": [
        "#union()\n",
        "set1={1,2,3} #all\n",
        "set2={4,5,6}\n",
        "print(set1.union(set2))"
      ],
      "metadata": {
        "colab": {
          "base_uri": "https://localhost:8080/"
        },
        "id": "dZqRzYdGtKVO",
        "outputId": "d514eb31-90ad-4a70-dc3d-f2641b95d4fe"
      },
      "execution_count": null,
      "outputs": [
        {
          "output_type": "stream",
          "name": "stdout",
          "text": [
            "{1, 2, 3, 4, 5, 6}\n"
          ]
        }
      ]
    },
    {
      "cell_type": "code",
      "source": [
        "#intersection()\n",
        "set1={1,2,3,4} #common\n",
        "set2={4,5,6}\n",
        "print(set1.intersection(set2))"
      ],
      "metadata": {
        "colab": {
          "base_uri": "https://localhost:8080/"
        },
        "id": "BQ6eusQatnIy",
        "outputId": "1ea62b2e-05f3-4211-d357-7434b5fc9461"
      },
      "execution_count": null,
      "outputs": [
        {
          "output_type": "stream",
          "name": "stdout",
          "text": [
            "{4}\n"
          ]
        }
      ]
    },
    {
      "cell_type": "code",
      "source": [
        "print(set1.difference(set2)) #difference()"
      ],
      "metadata": {
        "colab": {
          "base_uri": "https://localhost:8080/"
        },
        "id": "fxRcXg-VuRXe",
        "outputId": "ac3dbe06-5671-4a0f-d62d-c0b83a9cee68"
      },
      "execution_count": null,
      "outputs": [
        {
          "output_type": "stream",
          "name": "stdout",
          "text": [
            "{1, 2, 3}\n"
          ]
        }
      ]
    },
    {
      "cell_type": "code",
      "source": [
        "#issuperset()\n",
        "set1={1,2,3,4,5,6}\n",
        "set2={1,2,3}\n",
        "print(set1.issuperset(set2))"
      ],
      "metadata": {
        "colab": {
          "base_uri": "https://localhost:8080/"
        },
        "id": "k7UhvXovuwuU",
        "outputId": "0714f2c8-19da-4be8-805d-2acd7d948ba0"
      },
      "execution_count": null,
      "outputs": [
        {
          "output_type": "stream",
          "name": "stdout",
          "text": [
            "True\n"
          ]
        }
      ]
    },
    {
      "cell_type": "code",
      "source": [
        "#issubset()\n",
        "set1={1,2,3,4,5,6}\n",
        "set2={1,2,3}\n",
        "print(set2.issubset(set1))"
      ],
      "metadata": {
        "colab": {
          "base_uri": "https://localhost:8080/"
        },
        "id": "WIoZ3SDRvGaI",
        "outputId": "db8cf7c4-8969-4404-cf29-7b69e282b9e9"
      },
      "execution_count": null,
      "outputs": [
        {
          "output_type": "stream",
          "name": "stdout",
          "text": [
            "True\n"
          ]
        }
      ]
    },
    {
      "cell_type": "markdown",
      "source": [
        "Functions in python\n",
        "\n",
        "function is a block of code\n",
        "\n",
        "function will run when it is called\n",
        "\n",
        "syntax :\n",
        "\n",
        "def function name() {\n",
        "    function body\n",
        "function name() }\n",
        "\n",
        "def : function definition\n",
        "\n",
        "function name : function calling\n",
        "\n",
        "function with in a function nested function\n"
      ],
      "metadata": {
        "id": "k2Y6C9XnQZ-F"
      }
    },
    {
      "cell_type": "code",
      "source": [
        "#functions\n",
        "def func(): #function definition\n",
        "  print(\"this is a function\") #function body\n",
        "func() #function calling"
      ],
      "metadata": {
        "colab": {
          "base_uri": "https://localhost:8080/"
        },
        "id": "TG6FuDj2TI0Q",
        "outputId": "d23a7165-6f1a-4a74-c0c3-4c03e875973d"
      },
      "execution_count": null,
      "outputs": [
        {
          "output_type": "stream",
          "name": "stdout",
          "text": [
            "this is a function\n"
          ]
        }
      ]
    },
    {
      "cell_type": "code",
      "source": [
        "def func(a,b,c):\n",
        "  print(\"this is a function\",a,b,c)\n",
        "func(1,2,3)"
      ],
      "metadata": {
        "colab": {
          "base_uri": "https://localhost:8080/"
        },
        "id": "jqMRKDPSUABW",
        "outputId": "fa2deb4b-04cf-4347-f480-3ff2acad29fa"
      },
      "execution_count": null,
      "outputs": [
        {
          "output_type": "stream",
          "name": "stdout",
          "text": [
            "this is a function 1 2 3\n"
          ]
        }
      ]
    },
    {
      "cell_type": "code",
      "source": [
        "#use * if we want to use multiple arguments with single parameter otherwise it show error\n",
        "def func(*a):\n",
        "  print(\"this is a function with single argument with *\",a) #function body\n",
        "func(1,2,3) #function calling"
      ],
      "metadata": {
        "colab": {
          "base_uri": "https://localhost:8080/"
        },
        "id": "NLkIjfOhUszL",
        "outputId": "700b67d2-b4af-4ac4-cbd7-346b92f1d8c2"
      },
      "execution_count": null,
      "outputs": [
        {
          "output_type": "stream",
          "name": "stdout",
          "text": [
            "this is a function with single argument with * (1, 2, 3)\n"
          ]
        }
      ]
    },
    {
      "cell_type": "code",
      "source": [
        "#function with keyword arguments\n",
        "# it will store data in the dictionary format\n",
        "def func(**a):\n",
        "  print(\"this is function\",a)\n",
        "func(a=1,b=2)"
      ],
      "metadata": {
        "colab": {
          "base_uri": "https://localhost:8080/"
        },
        "id": "nlJwgVQuVvrb",
        "outputId": "ee8c0cbe-c3f5-44e1-b23a-42bfe277342b"
      },
      "execution_count": null,
      "outputs": [
        {
          "output_type": "stream",
          "name": "stdout",
          "text": [
            "this is function {'a': 1, 'b': 2}\n"
          ]
        }
      ]
    },
    {
      "cell_type": "code",
      "source": [
        "#nested function : function inside the function\n",
        "def outer():\n",
        "  print(\"outer function\")\n",
        "  def inner():\n",
        "    print(\"inner function\")\n",
        "  inner()\n",
        "outer()"
      ],
      "metadata": {
        "colab": {
          "base_uri": "https://localhost:8080/"
        },
        "id": "XGZuajsZWSoO",
        "outputId": "505f0e83-2c30-4ada-9e91-2ad6f913a2ae"
      },
      "execution_count": null,
      "outputs": [
        {
          "output_type": "stream",
          "name": "stdout",
          "text": [
            "outer function\n",
            "inner function\n"
          ]
        }
      ]
    },
    {
      "cell_type": "markdown",
      "source": [
        "file handling in python\n",
        "\n",
        "Reading,writing,creating of a file is called file handling\n",
        "\n",
        "steps : open()\n",
        "\n",
        "Read/write\n",
        "\n",
        "close()\n",
        "\n",
        "Methods : r - read\n",
        "\n",
        "w-write\n",
        "\n",
        "a-append\n",
        "\n",
        "r+ - read,write\n",
        "\n",
        "w+-write,read\n",
        "\n",
        "\n",
        "\n",
        "\n"
      ],
      "metadata": {
        "id": "GoLTqnGlXTkl"
      }
    },
    {
      "cell_type": "code",
      "source": [
        "#file handling in python\n",
        "#read()\n",
        "#write()\n",
        "f=open('file.txt',mode='w')\n",
        "f.write(\"python is good start for data science\")\n",
        "f.close()"
      ],
      "metadata": {
        "id": "jgBO86IeYfr7"
      },
      "execution_count": null,
      "outputs": []
    },
    {
      "cell_type": "code",
      "source": [
        "f=open('file.txt',mode='r+') #r+\n",
        "print(f.read())\n",
        "f.write('r+mode')\n",
        "f.close()"
      ],
      "metadata": {
        "colab": {
          "base_uri": "https://localhost:8080/"
        },
        "id": "Txq_7R7fb7B6",
        "outputId": "3fcaebd5-87ad-44bb-c27c-462a81b8c7ad"
      },
      "execution_count": null,
      "outputs": [
        {
          "output_type": "stream",
          "name": "stdout",
          "text": [
            "python is good start for data science\n"
          ]
        }
      ]
    },
    {
      "cell_type": "code",
      "source": [
        "f=open('file.txt',mode='w+') #w+\n",
        "f.write('w+mode')\n",
        "f.seek(0)\n",
        "print(f.read())\n",
        "f.close()\n"
      ],
      "metadata": {
        "colab": {
          "base_uri": "https://localhost:8080/"
        },
        "id": "uDg6Gzqign4O",
        "outputId": "08d4d97c-ffa9-479f-c22b-dd74c8e5d1fe"
      },
      "execution_count": null,
      "outputs": [
        {
          "output_type": "stream",
          "name": "stdout",
          "text": [
            "w+mode\n"
          ]
        }
      ]
    },
    {
      "cell_type": "markdown",
      "source": [
        "Error Handling in python\n",
        "\n",
        "definition : interupting normal execution of code is called error or exception\n",
        "\n",
        "syntax 🇰\n",
        "\n",
        "try:\n",
        "\n",
        "   risky code\n",
        "\n",
        "except:\n",
        "\n",
        "     print(\"error\")\n",
        "\n",
        "else:\n",
        "\n",
        "     print(\"no error\")\n",
        "\n",
        "finally:\n",
        "\n",
        "    print(\"always\")\n",
        "\n",
        "     \n",
        "\n",
        "\n",
        "\n"
      ],
      "metadata": {
        "id": "P6SheW-kjPUs"
      }
    },
    {
      "cell_type": "code",
      "source": [
        "#error or exception handling\n",
        "try:\n",
        "  print('a'+372)\n",
        "except TypeError:\n",
        "  print(\"type error\")\n",
        "except ValueError:\n",
        "  print(\"value Error\")\n",
        "else:\n",
        "  print(\"no error\")\n",
        "finally:\n",
        "  print(\"always\")\n",
        "\n"
      ],
      "metadata": {
        "colab": {
          "base_uri": "https://localhost:8080/"
        },
        "id": "4A5uBJGvkr8K",
        "outputId": "b526ac26-3b75-43c4-f44f-5a97e91493b1"
      },
      "execution_count": null,
      "outputs": [
        {
          "output_type": "stream",
          "name": "stdout",
          "text": [
            "type error\n",
            "always\n"
          ]
        }
      ]
    },
    {
      "cell_type": "markdown",
      "source": [
        "oops concepts in python\n",
        "\n",
        "class : class is a blue print of an object\n",
        "\n",
        "syntax : class class_name():\n",
        "\n",
        "class : key\n",
        "\n",
        "class_name(): class definition\n",
        "\n",
        "Object : real or physical entity\n",
        "\n",
        "we can create any no of objects for class\n",
        "\n",
        "memory allocated when object is created\n",
        "\n",
        "syntax:\n",
        "\n",
        "Object name=class name()\n"
      ],
      "metadata": {
        "id": "GfspY4qxlwY1"
      }
    },
    {
      "cell_type": "code",
      "source": [
        "#class in python\n",
        "class Prajith():\n",
        "  a=3\n",
        "  print(a)"
      ],
      "metadata": {
        "colab": {
          "base_uri": "https://localhost:8080/"
        },
        "id": "EgH5H-ldnrP_",
        "outputId": "33b897f5-5d21-4c2c-8622-cb779194c1d4"
      },
      "execution_count": null,
      "outputs": [
        {
          "output_type": "stream",
          "name": "stdout",
          "text": [
            "3\n"
          ]
        }
      ]
    },
    {
      "cell_type": "code",
      "source": [
        "class Prajith():\n",
        "  a=2\n",
        "  def output(self): #when we want to access variables and methods in current class we use self keyword\n",
        "    print(self.a)\n",
        "b=Prajith()\n",
        "b.output()"
      ],
      "metadata": {
        "colab": {
          "base_uri": "https://localhost:8080/"
        },
        "id": "5PD9TddFpJ-E",
        "outputId": "de4a475c-fa34-4cd1-db5c-c91d27861128"
      },
      "execution_count": null,
      "outputs": [
        {
          "output_type": "stream",
          "name": "stdout",
          "text": [
            "2\n"
          ]
        }
      ]
    },
    {
      "cell_type": "code",
      "source": [
        "#multiple objects for single class\n",
        "class Prajith():\n",
        "  a=2\n",
        "  def outer(self):\n",
        "    print(self.a)\n",
        "b=Prajith()\n",
        "v=Prajith()\n",
        "b.outer()\n",
        "v.outer()\n"
      ],
      "metadata": {
        "colab": {
          "base_uri": "https://localhost:8080/"
        },
        "id": "Ipe1D-cIqA00",
        "outputId": "52ef3c34-5dea-481c-872f-8cc37430e5ab"
      },
      "execution_count": null,
      "outputs": [
        {
          "output_type": "stream",
          "name": "stdout",
          "text": [
            "2\n",
            "2\n"
          ]
        }
      ]
    },
    {
      "cell_type": "markdown",
      "source": [
        "Inheritance in python\n",
        "\n",
        "Definition : Inheriting the properties from parent class to child class\n",
        "\n",
        "Types of Inheritence :\n",
        "\n",
        "1.single level :  parent class properties will get into child class\n",
        "\n",
        "ex : father to child\n",
        "\n",
        "2.Multilevel inheritence : it inherits level by level\n",
        "\n",
        "ex : grandfather to father to child\n",
        "\n",
        "3.multiple inheritence : more than one parent class and only one child class\n",
        "\n",
        "ex : father and mother inherits single child\n",
        "\n",
        "4.Hierarichal inheritence : one parent class multiple child class\n",
        "\n",
        "ex: one father two childrean\n"
      ],
      "metadata": {
        "id": "ZZU6co-Iq7Nv"
      }
    },
    {
      "cell_type": "code",
      "source": [
        "#single level inheritence\n",
        "class Parent():\n",
        "  def output(self):\n",
        "    print(\"i am a parent class\")\n",
        "class Child(Parent):\n",
        "  def outputc(self):\n",
        "    print(\"i am a child class\")\n",
        "c=Child()\n",
        "c.outputc() # child method\n",
        "c.output() # parent method"
      ],
      "metadata": {
        "colab": {
          "base_uri": "https://localhost:8080/"
        },
        "id": "oRiHx8qVt8gT",
        "outputId": "2e9f3562-a145-40bd-99cb-be3acc6a461a"
      },
      "execution_count": null,
      "outputs": [
        {
          "output_type": "stream",
          "name": "stdout",
          "text": [
            "i am a child class\n",
            "i am a parent class\n"
          ]
        }
      ]
    },
    {
      "cell_type": "code",
      "source": [
        "#multilevel inheritence\n",
        "class Grandfather():\n",
        "  def outputgf(self):\n",
        "    print(\"i am a grand father\")\n",
        "class Father(Grandfather):\n",
        "  def outputf(self):\n",
        "    print(\"i am a father\")\n",
        "class Child(Father):\n",
        "  def outputc(self):\n",
        "    print(\"i am a child\")\n",
        "c=Child()\n",
        "c.outputc() #child method\n",
        "c.outputf() # father method\n",
        "c.outputgf()   # grand father method\n"
      ],
      "metadata": {
        "colab": {
          "base_uri": "https://localhost:8080/"
        },
        "id": "RERxXxAawL-7",
        "outputId": "629775f5-0737-4b30-acfa-2816ba269bd3"
      },
      "execution_count": null,
      "outputs": [
        {
          "output_type": "stream",
          "name": "stdout",
          "text": [
            "i am a child\n",
            "i am a father\n",
            "i am a grand father\n"
          ]
        }
      ]
    },
    {
      "cell_type": "code",
      "source": [
        "#multiple inheritence\n",
        "class Father():\n",
        "  def outputf(self):\n",
        "    print(\"i am a father\")\n",
        "class Mother():\n",
        "  def outputm(self):\n",
        "    print(\"i am a mother\")\n",
        "class Child(Father,Mother):\n",
        "  def outputC(self):\n",
        "    print(\"i am a child\")\n",
        "c=Child()\n",
        "c.outputC()\n",
        "c.outputf()\n",
        "c.outputm()"
      ],
      "metadata": {
        "colab": {
          "base_uri": "https://localhost:8080/"
        },
        "id": "2brQ-xhhx3Fy",
        "outputId": "ebd82a43-4692-4a97-afb9-6a208b94321e"
      },
      "execution_count": null,
      "outputs": [
        {
          "output_type": "stream",
          "name": "stdout",
          "text": [
            "i am a child\n",
            "i am a father\n",
            "i am a mother\n"
          ]
        }
      ]
    },
    {
      "cell_type": "code",
      "source": [
        "#Hirarichal inheritence\n",
        "class Father():\n",
        "  def output(self):\n",
        "    print(\"i am a father\")\n",
        "class Child1(Father):\n",
        "  def outputc1(self):\n",
        "    print(\"i am child 1\")\n",
        "class Child2(Father):\n",
        "  def outputc2(self):\n",
        "    print(\"i am child 2\")\n",
        "c=Child1()\n",
        "c2=Child2()\n",
        "c.outputc1()\n",
        "c2.outputc2()\n"
      ],
      "metadata": {
        "colab": {
          "base_uri": "https://localhost:8080/"
        },
        "id": "fA99gz4mzVC3",
        "outputId": "7f50f069-695f-4fb1-b40e-2abb14226a25"
      },
      "execution_count": null,
      "outputs": [
        {
          "output_type": "stream",
          "name": "stdout",
          "text": [
            "i am child 1\n",
            "i am child 2\n"
          ]
        }
      ]
    },
    {
      "cell_type": "markdown",
      "source": [
        "Encapsulation in python\n",
        "\n",
        "definition : wrapping of variables and methods into a single unit\n",
        "\n",
        "access specifiers : public,private,protected\n",
        "\n",
        "Polymorphism : poly means many and morph means forms\n",
        "\n",
        "example :\n",
        "\n",
        "def add(a,b):\n",
        "add(1,2)\n",
        "add('a','b')\n",
        "add((1,1),(2,2))\n",
        "\n",
        "Data Abstarction : hiding unnesscary data and providig access to the neccessary details"
      ],
      "metadata": {
        "id": "Qo5CDs-sKnkV"
      }
    },
    {
      "cell_type": "code",
      "source": [
        "#access specifiers\n",
        "class demo():\n",
        "  __a=2 #private\n",
        "  _b=4 #protected\n",
        "  print(__a)\n",
        "  print(_b)\n"
      ],
      "metadata": {
        "colab": {
          "base_uri": "https://localhost:8080/"
        },
        "id": "hEbtjv6aMGqB",
        "outputId": "e2745f55-ef70-48bd-f918-7dd392d39cd7"
      },
      "execution_count": null,
      "outputs": [
        {
          "output_type": "stream",
          "name": "stdout",
          "text": [
            "2\n",
            "4\n"
          ]
        }
      ]
    },
    {
      "cell_type": "code",
      "source": [
        "class demo():\n",
        "  def __init__(self,a,b):\n",
        "    self.__a=a #private\n",
        "    self._b=b #protected\n",
        "class demo2(demo):\n",
        "  def output(self):\n",
        "    print(self._b) #cant able to acccess private data in another class\n",
        "d=demo2(3,4)\n",
        "d.output()"
      ],
      "metadata": {
        "colab": {
          "base_uri": "https://localhost:8080/"
        },
        "id": "yJvUytUyN5XK",
        "outputId": "61f9c8fa-c868-45f9-aa2d-e73aad3ecca1"
      },
      "execution_count": null,
      "outputs": [
        {
          "output_type": "stream",
          "name": "stdout",
          "text": [
            "4\n"
          ]
        }
      ]
    },
    {
      "cell_type": "code",
      "source": [
        "#polymorphism\n",
        "def add(a,b):\n",
        "  print(a+b)\n",
        "add(1,2)\n",
        "add('a','b')\n",
        "add([34,4],[44,4])\n",
        "add((3,4),(4,6))"
      ],
      "metadata": {
        "colab": {
          "base_uri": "https://localhost:8080/"
        },
        "id": "-vSW020NQj8S",
        "outputId": "f46dceed-6f48-4abc-977b-53ccd5ac996e"
      },
      "execution_count": null,
      "outputs": [
        {
          "output_type": "stream",
          "name": "stdout",
          "text": [
            "3\n",
            "ab\n",
            "[34, 4, 44, 4]\n",
            "(3, 4, 4, 6)\n"
          ]
        }
      ]
    },
    {
      "cell_type": "code",
      "source": [
        "#Encapsulation\n",
        "class Person:\n",
        "  def __init__(self, name, age):\n",
        "    self._name = name\n",
        "    self._age = age\n",
        "\n",
        "  def get_name(self):\n",
        "    return self._name\n",
        "\n",
        "  def get_age(self):\n",
        "    return self._age\n",
        "\n",
        "  def set_name(self, name):\n",
        "    self._name = name\n",
        "\n",
        "  def set_age(self, age):\n",
        "    self._age = age\n",
        "\n",
        "person = Person(\"Prajith\", 24)\n",
        "print(person.get_name())\n",
        "print(person.get_age())\n",
        "person.set_name(\"Hari\")\n",
        "person.set_age(53)\n",
        "print(person.get_name())\n",
        "print(person.get_age())\n"
      ],
      "metadata": {
        "colab": {
          "base_uri": "https://localhost:8080/"
        },
        "id": "cdDkL8ZURQgq",
        "outputId": "6d9e4921-f51c-445c-c6c9-7b3685b1f738"
      },
      "execution_count": null,
      "outputs": [
        {
          "output_type": "stream",
          "name": "stdout",
          "text": [
            "Prajith\n",
            "24\n",
            "Hari\n",
            "53\n"
          ]
        }
      ]
    },
    {
      "cell_type": "code",
      "source": [
        "#Data Abstarction\n",
        "class Product:\n",
        "  def __init__(self, name, price):\n",
        "    self._name = name\n",
        "    self._price = price\n",
        "\n",
        "  def get_name(self):\n",
        "    return self._name\n",
        "\n",
        "  def get_price(self):\n",
        "    return self._price\n",
        "\n",
        "  def set_name(self, name):\n",
        "    self._name = name\n",
        "\n",
        "  def set_price(self, price):\n",
        "    self._price = price\n",
        "\n",
        "product = Product(\"Apple\", 1.99)\n",
        "print(product.get_name())\n",
        "print(product.get_price())\n",
        "product.set_name(\"Banana\")\n",
        "product.set_price(2.99)\n",
        "print(product.get_name())\n",
        "print(product.get_price())\n"
      ],
      "metadata": {
        "colab": {
          "base_uri": "https://localhost:8080/"
        },
        "id": "qXhqm2XuSW9F",
        "outputId": "5c6f9b5d-f3e0-4be4-c1c2-951bbd18de3b"
      },
      "execution_count": null,
      "outputs": [
        {
          "output_type": "stream",
          "name": "stdout",
          "text": [
            "Apple\n",
            "1.99\n",
            "Banana\n",
            "2.99\n"
          ]
        }
      ]
    },
    {
      "cell_type": "markdown",
      "source": [
        "Multi threading in python\n",
        "* single flow of control is said to be a thread\n",
        "* in threads there are two types of execution\n",
        "* sequential execution : one after another : second process must wait for the completion of first process\n",
        "* concurrent execution  : parallel execution : second process need not wait for the completion of first process\n",
        "* How to create a thread ?\n",
        "1.create a class that extends Thread\n",
        "class thread1(Thread):\n",
        "\n",
        "2.Define run() method\n",
        "\n",
        "   def run(self):\n",
        "     #code\n",
        "3.create object of the class and call start method\n",
        "\n",
        "     obj=thread1()\n",
        "     obj.start() #calling run method of the thread by using start method               \n",
        "\n",
        "\n"
      ],
      "metadata": {
        "id": "I7_XDFzHqvuU"
      }
    },
    {
      "cell_type": "code",
      "source": [
        "#multi threading\n",
        "import threading\n",
        "import time\n",
        "print(\"main starts\")\n",
        "class thread1(threading.Thread):\n",
        "  def run(self):\n",
        "    for i in range(4):\n",
        "      print(\"thread1:\",str(i))\n",
        "      time.sleep(6)\n",
        "class thread2(threading.Thread):\n",
        "  def run(self):\n",
        "    for i in range(4):\n",
        "      print(\"thread2:\",str(i))\n",
        "      time.sleep(2)\n",
        "t1=thread1()\n",
        "t1.start()\n",
        "t2=thread2()\n",
        "t2.start()\n",
        "print(\"main ends\")\n",
        "\n",
        "\n"
      ],
      "metadata": {
        "colab": {
          "base_uri": "https://localhost:8080/"
        },
        "id": "vyAESPr7tQs5",
        "outputId": "f794ce78-29e6-4494-ea72-d1b238be74e3"
      },
      "execution_count": null,
      "outputs": [
        {
          "output_type": "stream",
          "name": "stdout",
          "text": [
            "main starts\n",
            "thread1: 0\n",
            "thread2:main ends\n",
            " 0\n"
          ]
        }
      ]
    }
  ]
}